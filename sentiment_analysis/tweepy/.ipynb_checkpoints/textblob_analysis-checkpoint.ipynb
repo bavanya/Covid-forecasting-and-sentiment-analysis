{
 "cells": [
  {
   "cell_type": "code",
   "execution_count": 3,
   "metadata": {},
   "outputs": [
    {
     "name": "stdout",
     "output_type": "stream",
     "text": [
      "Positive tweets percentage: 31.57894736842105 %\n",
      "Negative tweets percentage: 21.05263157894737 %\n",
      "Neutral tweets percentage: 47.36842105263158 %\n"
     ]
    }
   ],
   "source": [
    "import os\n",
    "import tweepy as tw\n",
    "import re\n",
    "from textblob import TextBlob\n",
    "\n",
    "\n",
    "consumer_key = ''\n",
    "consumer_secret = ''\n",
    "access_token = ''\n",
    "access_token_secret = ''\n",
    "auth = tw.OAuthHandler(consumer_key, consumer_secret)\n",
    "auth.set_access_token(access_token, access_token_secret)\n",
    "api = tw.API(auth, wait_on_rate_limit=True)\n",
    "\n",
    "#fetching tweets\n",
    "tweets = tw.Cursor(api.search, q=\"corona\",lang=\"en\",since=\"2020-01-01\").items(200)\n",
    "\n",
    "#cleaning tweets\n",
    "def clean_tweet(tweet): \n",
    "    return ' '.join(re.sub(\"(@[A-Za-z0-9]+)|([^0-9A-Za-z \\t])|(\\w+:\\/\\/\\S+)\", \" \", tweet).split())\n",
    "\n",
    "def get_tweet_sentiment(tweet): \n",
    "    # create TextBlob object of passed tweet text \n",
    "    analysis = TextBlob(clean_tweet(tweet)) \n",
    "    # set sentiment \n",
    "    if analysis.sentiment.polarity > 0: \n",
    "        return 'positive'\n",
    "    elif analysis.sentiment.polarity == 0:\n",
    "        return 'neutral'\n",
    "    else: \n",
    "        return 'negative'\n",
    "    \n",
    "alltweets=[]    #list of all tweets with its sentiment\n",
    "\n",
    "for tweet in tweets:  \n",
    "    parsed_tweet = {} \n",
    "    parsed_tweet['text'] = tweet.text \n",
    "    parsed_tweet['sentiment'] = get_tweet_sentiment(tweet.text) \n",
    " \n",
    "    if tweet.retweet_count > 0: \n",
    "    # if tweet has retweets, ensure that it is appended only once \n",
    "        if parsed_tweet not in alltweets: \n",
    "            alltweets.append(parsed_tweet) \n",
    "    else: \n",
    "        alltweets.append(parsed_tweet) \n",
    "\n",
    "# positive tweets list from alltweets \n",
    "ptweets = [tweet for tweet in alltweets if tweet['sentiment'] == 'positive'] \n",
    "# percentage of positive tweets \n",
    "print(\"Positive tweets percentage: {} %\".format(100*len(ptweets)/len(alltweets))) \n",
    "# negative tweets list from alltweets \n",
    "ntweets = [tweet for tweet in alltweets if tweet['sentiment'] == 'negative'] \n",
    "# percentage of negative tweets \n",
    "print(\"Negative tweets percentage: {} %\".format(100*len(ntweets)/len(alltweets))) \n",
    "# percentage of neutral tweets \n",
    "print(\"Neutral tweets percentage: {} %\".format(100*(len(alltweets) -(len( ntweets )+len( ptweets)))/len(alltweets))) \n",
    "\n",
    "    "
   ]
  },
  {
   "cell_type": "code",
   "execution_count": null,
   "metadata": {},
   "outputs": [],
   "source": []
  }
 ],
 "metadata": {
  "kernelspec": {
   "display_name": "Python 3",
   "language": "python",
   "name": "python3"
  },
  "language_info": {
   "codemirror_mode": {
    "name": "ipython",
    "version": 3
   },
   "file_extension": ".py",
   "mimetype": "text/x-python",
   "name": "python",
   "nbconvert_exporter": "python",
   "pygments_lexer": "ipython3",
   "version": "3.8.3"
  }
 },
 "nbformat": 4,
 "nbformat_minor": 2
}
