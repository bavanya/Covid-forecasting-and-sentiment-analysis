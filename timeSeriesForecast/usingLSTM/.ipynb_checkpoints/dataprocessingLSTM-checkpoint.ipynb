{
 "cells": [
  {
   "cell_type": "markdown",
   "metadata": {
    "colab_type": "text",
    "id": "view-in-github"
   },
   "source": [
    "<a href=\"https://colab.research.google.com/github/bavanya/covid-19_tracker_data_mining/blob/add-time-series-dataprocessing/timeSeriesForecast/usingLSTM/dataprocessingLSTM.ipynb\" target=\"_parent\"><img src=\"https://colab.research.google.com/assets/colab-badge.svg\" alt=\"Open In Colab\"/></a>"
   ]
  },
  {
   "cell_type": "code",
   "execution_count": 1,
   "metadata": {
    "colab": {},
    "colab_type": "code",
    "id": "xq95op12LoeI"
   },
   "outputs": [],
   "source": [
    "import torch\n",
    "\n",
    "import os\n",
    "import numpy as np\n",
    "import pandas as pd\n",
    "#from tqdm import tqdm\n",
    "#import seaborn as sns\n",
    "#from pylab import rcParams\n",
    "import matplotlib.pyplot as plt\n",
    "from matplotlib import rc\n",
    "from sklearn.preprocessing import MinMaxScaler\n",
    "from pandas.plotting import register_matplotlib_converters\n",
    "from torch import nn, optim\n",
    "%matplotlib inline"
   ]
  },
  {
   "cell_type": "code",
   "execution_count": 2,
   "metadata": {
    "colab": {
     "base_uri": "https://localhost:8080/",
     "height": 34
    },
    "colab_type": "code",
    "id": "rZtv1odYLzQg",
    "outputId": "de432d5b-527d-4b7d-8ccd-13b12488c23c"
   },
   "outputs": [
    {
     "name": "stdout",
     "output_type": "stream",
     "text": [
      "Mounted at /content/drive\n"
     ]
    }
   ],
   "source": [
    "from google.colab import drive\n",
    "drive.mount('/content/drive')\n",
    "path_file = '/content/drive/My Drive/Colab Notebooks/csvData.csv'"
   ]
  },
  {
   "cell_type": "code",
   "execution_count": 3,
   "metadata": {
    "colab": {
     "base_uri": "https://localhost:8080/",
     "height": 255
    },
    "colab_type": "code",
    "id": "xJuD9xa7Ne3G",
    "outputId": "e9d018cb-a9c2-4394-e79e-c53fde8b23f7"
   },
   "outputs": [
    {
     "name": "stdout",
     "output_type": "stream",
     "text": [
      "          date  confirmed  deaths  recovered\n",
      "0    2020-1-22          0       0          0\n",
      "1    2020-1-23          0       0          0\n",
      "2    2020-1-24          0       0          0\n",
      "3    2020-1-25          0       0          0\n",
      "4    2020-1-26          0       0          0\n",
      "..         ...        ...     ...        ...\n",
      "217  2020-8-26    3310234   60472    2523771\n",
      "218  2020-8-27    3387500   61529    2583948\n",
      "219  2020-8-28    3463972   62550    2648998\n",
      "220  2020-8-29    3542733   63498    2713933\n",
      "221  2020-8-30    3621245   64469    2774801\n",
      "\n",
      "[222 rows x 4 columns]\n"
     ]
    }
   ],
   "source": [
    "df = pd.read_csv(path_file)\n",
    "print(df)"
   ]
  },
  {
   "cell_type": "code",
   "execution_count": 4,
   "metadata": {
    "colab": {
     "base_uri": "https://localhost:8080/",
     "height": 102
    },
    "colab_type": "code",
    "id": "Kas93BL1NrQr",
    "outputId": "d95efbc5-c87f-4170-efb1-04698d9fceca"
   },
   "outputs": [
    {
     "data": {
      "text/plain": [
       "date         object\n",
       "confirmed     int64\n",
       "deaths        int64\n",
       "recovered     int64\n",
       "dtype: object"
      ]
     },
     "execution_count": 4,
     "metadata": {
      "tags": []
     },
     "output_type": "execute_result"
    }
   ],
   "source": [
    "df.dtypes"
   ]
  },
  {
   "cell_type": "code",
   "execution_count": 5,
   "metadata": {
    "colab": {
     "base_uri": "https://localhost:8080/",
     "height": 34
    },
    "colab_type": "code",
    "id": "O5LAQ0cVNuKT",
    "outputId": "1dbe065a-cc87-4dcb-896c-19404be1a48a"
   },
   "outputs": [
    {
     "data": {
      "text/plain": [
       "0"
      ]
     },
     "execution_count": 5,
     "metadata": {
      "tags": []
     },
     "output_type": "execute_result"
    }
   ],
   "source": [
    "df.isnull().sum().sum()"
   ]
  },
  {
   "cell_type": "code",
   "execution_count": 6,
   "metadata": {
    "colab": {
     "base_uri": "https://localhost:8080/",
     "height": 85
    },
    "colab_type": "code",
    "id": "h32zlo5JN77z",
    "outputId": "cd57f977-a0b2-45ec-cb52-3014f205c9eb"
   },
   "outputs": [
    {
     "name": "stdout",
     "output_type": "stream",
     "text": [
      "confirmed    int64\n",
      "deaths       int64\n",
      "recovered    int64\n",
      "dtype: object\n"
     ]
    }
   ],
   "source": [
    "df['date'] = pd.to_datetime(df['date'])\n",
    "df.set_index('date', inplace=True)\n",
    "df.index\n",
    "print(df.dtypes)"
   ]
  },
  {
   "cell_type": "code",
   "execution_count": 7,
   "metadata": {
    "colab": {
     "base_uri": "https://localhost:8080/",
     "height": 272
    },
    "colab_type": "code",
    "id": "9dvBu_FnOG6U",
    "outputId": "2eca7002-14fc-442d-e036-4c850d897412"
   },
   "outputs": [
    {
     "name": "stdout",
     "output_type": "stream",
     "text": [
      "            confirmed  deaths  recovered\n",
      "date                                    \n",
      "2020-01-22          0       0          0\n",
      "2020-01-23          0       0          0\n",
      "2020-01-24          0       0          0\n",
      "2020-01-25          0       0          0\n",
      "2020-01-26          0       0          0\n",
      "...               ...     ...        ...\n",
      "2020-08-26    3310234   60472    2523771\n",
      "2020-08-27    3387500   61529    2583948\n",
      "2020-08-28    3463972   62550    2648998\n",
      "2020-08-29    3542733   63498    2713933\n",
      "2020-08-30    3621245   64469    2774801\n",
      "\n",
      "[222 rows x 3 columns]\n"
     ]
    }
   ],
   "source": [
    "print(df)"
   ]
  },
  {
   "cell_type": "code",
   "execution_count": 8,
   "metadata": {
    "colab": {
     "base_uri": "https://localhost:8080/",
     "height": 340
    },
    "colab_type": "code",
    "id": "lGJGNkYxOJJn",
    "outputId": "e000e108-6422-4553-e722-ff3a8f15ad1a"
   },
   "outputs": [
    {
     "name": "stdout",
     "output_type": "stream",
     "text": [
      "            confirmed\n",
      "date                 \n",
      "2020-01-22          0\n",
      "2020-01-23          0\n",
      "2020-01-24          0\n",
      "2020-01-25          0\n",
      "2020-01-26          0\n",
      "2020-01-27          0\n",
      "2020-01-28          0\n",
      "2020-01-29          0\n",
      "2020-01-30          1\n",
      "2020-01-31          0\n",
      "2020-02-01          0\n",
      "2020-02-02          1\n",
      "2020-02-03          1\n",
      "2020-02-04          0\n",
      "2020-02-05          0\n"
     ]
    },
    {
     "data": {
      "text/plain": [
       "confirmed    int64\n",
       "dtype: object"
      ]
     },
     "execution_count": 8,
     "metadata": {
      "tags": []
     },
     "output_type": "execute_result"
    }
   ],
   "source": [
    "df1 = df[['confirmed']]\n",
    "df1 = df1.diff()\n",
    "df1.loc['2020-01-22', 'confirmed'] = 0.0\n",
    "df1['confirmed'] = df1['confirmed'].astype(np.int64)\n",
    "print(df1.head(15))\n",
    "df1.dtypes"
   ]
  },
  {
   "cell_type": "code",
   "execution_count": 9,
   "metadata": {
    "colab": {
     "base_uri": "https://localhost:8080/",
     "height": 281
    },
    "colab_type": "code",
    "id": "ugu9YaOvPpl_",
    "outputId": "6a441be9-48d0-46f3-a0ff-2060bfa9f7c4"
   },
   "outputs": [
    {
     "data": {
      "image/png": "[encoded data removed]",
      "text/plain": [
       "<Figure size 432x288 with 1 Axes>"
      ]
     },
     "metadata": {
      "needs_background": "light",
      "tags": []
     },
     "output_type": "display_data"
    }
   ],
   "source": [
    "plt.plot(df1)\n",
    "plt.title(\"Confimed cases per day\");"
   ]
  },
  {
   "cell_type": "code",
   "execution_count": 10,
   "metadata": {
    "colab": {
     "base_uri": "https://localhost:8080/",
     "height": 34
    },
    "colab_type": "code",
    "id": "Cn_m8TE8PyhA",
    "outputId": "5060fad0-706d-4bb7-ec9e-6ec9007c62cb"
   },
   "outputs": [
    {
     "data": {
      "text/plain": [
       "(222, 1)"
      ]
     },
     "execution_count": 10,
     "metadata": {
      "tags": []
     },
     "output_type": "execute_result"
    }
   ],
   "source": [
    "df1.shape"
   ]
  },
  {
   "cell_type": "code",
   "execution_count": 11,
   "metadata": {
    "colab": {
     "base_uri": "https://localhost:8080/",
     "height": 34
    },
    "colab_type": "code",
    "id": "R7b2ge6sP6PS",
    "outputId": "446d2c4a-1a07-4978-b570-2f0e66ef6c2a"
   },
   "outputs": [
    {
     "data": {
      "text/plain": [
       "(178, 1)"
      ]
     },
     "execution_count": 11,
     "metadata": {
      "tags": []
     },
     "output_type": "execute_result"
    }
   ],
   "source": [
    "test_data_size = 44\n",
    "\n",
    "train_data = df1[:-test_data_size]\n",
    "test_data = df1[-test_data_size:]\n",
    "train_data.shape"
   ]
  },
  {
   "cell_type": "code",
   "execution_count": 12,
   "metadata": {
    "colab": {},
    "colab_type": "code",
    "id": "tzWnRmgaQOp0"
   },
   "outputs": [],
   "source": [
    "scaler = MinMaxScaler()\n",
    "scaler = scaler.fit(train_data)\n",
    "train_data = scaler.transform(train_data)\n",
    "test_data = scaler.transform(test_data)"
   ]
  },
  {
   "cell_type": "code",
   "execution_count": 14,
   "metadata": {
    "colab": {},
    "colab_type": "code",
    "id": "dCMgfmDaQxJC"
   },
   "outputs": [],
   "source": [
    "#print(train_data)"
   ]
  },
  {
   "cell_type": "code",
   "execution_count": 15,
   "metadata": {
    "colab": {},
    "colab_type": "code",
    "id": "mVUyR-Y8RGgo"
   },
   "outputs": [],
   "source": [
    "def create_sequences(data, seq_length):\n",
    "    xs = []\n",
    "    ys = []\n",
    "\n",
    "    for i in range(len(data)-seq_length-1):\n",
    "        x = data[i:(i+seq_length)]\n",
    "        y = data[i+seq_length]\n",
    "        xs.append(x)\n",
    "        ys.append(y)\n",
    "\n",
    "    return np.array(xs), np.array(ys)"
   ]
  },
  {
   "cell_type": "code",
   "execution_count": 16,
   "metadata": {
    "colab": {},
    "colab_type": "code",
    "id": "lMwI_l6-VVdb"
   },
   "outputs": [],
   "source": [
    "seq_length = 5\n",
    "X_train, y_train = create_sequences(train_data, seq_length)\n",
    "X_test, y_test = create_sequences(test_data, seq_length)\n",
    "\n",
    "X_train = torch.from_numpy(X_train).float()\n",
    "y_train = torch.from_numpy(y_train).float()\n",
    "\n",
    "X_test = torch.from_numpy(X_test).float()\n",
    "y_test = torch.from_numpy(y_test).float()"
   ]
  },
  {
   "cell_type": "code",
   "execution_count": 17,
   "metadata": {
    "colab": {
     "base_uri": "https://localhost:8080/",
     "height": 187
    },
    "colab_type": "code",
    "id": "OTiO1kYjVbQ7",
    "outputId": "b67afd5a-319d-40c3-d5db-39ecaa9492b4"
   },
   "outputs": [
    {
     "data": {
      "text/plain": [
       "array([[0.00000000e+00],\n",
       "       [0.00000000e+00],\n",
       "       [0.00000000e+00],\n",
       "       [0.00000000e+00],\n",
       "       [0.00000000e+00],\n",
       "       [0.00000000e+00],\n",
       "       [0.00000000e+00],\n",
       "       [0.00000000e+00],\n",
       "       [2.83671848e-05],\n",
       "       [0.00000000e+00]])"
      ]
     },
     "execution_count": 17,
     "metadata": {
      "tags": []
     },
     "output_type": "execute_result"
    }
   ],
   "source": [
    "train_data[:10]"
   ]
  },
  {
   "cell_type": "code",
   "execution_count": 18,
   "metadata": {
    "colab": {},
    "colab_type": "code",
    "id": "7yYIYUBqVfnR"
   },
   "outputs": [],
   "source": [
    "#y_train[2:]\n",
    "#X_train[2:]"
   ]
  },
  {
   "cell_type": "code",
   "execution_count": 19,
   "metadata": {
    "colab": {},
    "colab_type": "code",
    "id": "lHmyHt5jWPyN"
   },
   "outputs": [],
   "source": [
    "class CoronaVirusPredictor(nn.Module):\n",
    "  def __init__(self, n_features, n_hidden, seq_len, n_layers=2):\n",
    "    pass\n"
   ]
  },
  {
   "cell_type": "code",
   "execution_count": null,
   "metadata": {
    "colab": {},
    "colab_type": "code",
    "id": "jkwBHGgAWzEC"
   },
   "outputs": [],
   "source": []
  }
 ],
 "metadata": {
  "colab": {
   "authorship_tag": "ABX9TyPw1+vmT6SDY88xh3KgdtgF",
   "include_colab_link": true,
   "name": "Untitled0.ipynb",
   "provenance": []
  },
  "kernelspec": {
   "display_name": "Python 3",
   "language": "python",
   "name": "python3"
  },
  "language_info": {
   "codemirror_mode": {
    "name": "ipython",
    "version": 3
   },
   "file_extension": ".py",
   "mimetype": "text/x-python",
   "name": "python",
   "nbconvert_exporter": "python",
   "pygments_lexer": "ipython3",
   "version": "3.6.9"
  }
 },
 "nbformat": 4,
 "nbformat_minor": 1
}
